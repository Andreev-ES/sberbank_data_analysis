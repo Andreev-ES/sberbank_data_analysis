{
 "cells": [
  {
   "cell_type": "code",
   "execution_count": 17,
   "metadata": {
    "collapsed": true
   },
   "outputs": [],
   "source": [
    "import numpy as np\n",
    "from IPython.display import  display"
   ]
  },
  {
   "cell_type": "markdown",
   "metadata": {},
   "source": [
    "### Упражнение 1\n",
    "\n",
    "На одном графике изобразите время затраченное на вычисление с использованием массивов numpy и стандартных списков в питоне.  \n",
    "Для более точных результатов замеряйте время выполнения функции несколько раз и усредняйте. \n",
    "* Используйте функцию `z = 2*x**2 + 4*y`\n",
    "* Перемножение матриц размера n на n"
   ]
  },
  {
   "cell_type": "code",
   "execution_count": null,
   "metadata": {
    "collapsed": true
   },
   "outputs": [],
   "source": []
  },
  {
   "cell_type": "markdown",
   "metadata": {},
   "source": [
    "### Упражнение 2\n",
    "* Создайте массив чисел от 2 до 75. Выведите только нечётные. \n",
    "* Присвойте нечётным числам этого массива значение -1.\n",
    "\n"
   ]
  },
  {
   "cell_type": "code",
   "execution_count": 507,
   "metadata": {},
   "outputs": [
    {
     "data": {
      "text/plain": [
       "array([ 2,  3,  4,  5,  6,  7,  8,  9, 10, 11, 12, 13, 14, 15, 16, 17, 18,\n",
       "       19, 20, 21, 22, 23, 24, 25, 26, 27, 28, 29, 30, 31, 32, 33, 34, 35,\n",
       "       36, 37, 38, 39, 40, 41, 42, 43, 44, 45, 46, 47, 48, 49, 50, 51, 52,\n",
       "       53, 54, 55, 56, 57, 58, 59, 60, 61, 62, 63, 64, 65, 66, 67, 68, 69,\n",
       "       70, 71, 72, 73, 74, 75])"
      ]
     },
     "metadata": {},
     "output_type": "display_data"
    },
    {
     "data": {
      "text/plain": [
       "array([ 3,  5,  7,  9, 11, 13, 15, 17, 19, 21, 23, 25, 27, 29, 31, 33, 35,\n",
       "       37, 39, 41, 43, 45, 47, 49, 51, 53, 55, 57, 59, 61, 63, 65, 67, 69,\n",
       "       71, 73, 75])"
      ]
     },
     "metadata": {},
     "output_type": "display_data"
    },
    {
     "data": {
      "text/plain": [
       "array([ 2, -1,  4, -1,  6, -1,  8, -1, 10, -1, 12, -1, 14, -1, 16, -1, 18,\n",
       "       -1, 20, -1, 22, -1, 24, -1, 26, -1, 28, -1, 30, -1, 32, -1, 34, -1,\n",
       "       36, -1, 38, -1, 40, -1, 42, -1, 44, -1, 46, -1, 48, -1, 50, -1, 52,\n",
       "       -1, 54, -1, 56, -1, 58, -1, 60, -1, 62, -1, 64, -1, 66, -1, 68, -1,\n",
       "       70, -1, 72, -1, 74, -1])"
      ]
     },
     "metadata": {},
     "output_type": "display_data"
    }
   ],
   "source": [
    "a = np.arange(2,76)\n",
    "display(a)\n",
    "\n",
    "j = np.arange(1,75, 2)\n",
    "\n",
    "display(a[j])\n",
    "\n",
    "a[j] = -1\n",
    "\n",
    "display(a)"
   ]
  },
  {
   "cell_type": "markdown",
   "metadata": {},
   "source": [
    "### Упражнение 3\n",
    "\n",
    "* Найдите в документации функцию, которая удаляет из одного массива элементы, которые есть в другом. \n",
    "* Приведите примеры использования."
   ]
  },
  {
   "cell_type": "code",
   "execution_count": 252,
   "metadata": {},
   "outputs": [
    {
     "data": {
      "text/plain": [
       "array([0, 1, 2, 5, 0])"
      ]
     },
     "metadata": {},
     "output_type": "display_data"
    },
    {
     "data": {
      "text/plain": [
       "[0, 2]"
      ]
     },
     "metadata": {},
     "output_type": "display_data"
    },
    {
     "data": {
      "text/plain": [
       "array([ True, False,  True, False,  True], dtype=bool)"
      ]
     },
     "metadata": {},
     "output_type": "display_data"
    },
    {
     "data": {
      "text/plain": [
       "array([0, 2, 0])"
      ]
     },
     "metadata": {},
     "output_type": "display_data"
    },
    {
     "data": {
      "text/plain": [
       "array([False,  True, False,  True, False], dtype=bool)"
      ]
     },
     "metadata": {},
     "output_type": "display_data"
    },
    {
     "data": {
      "text/plain": [
       "array([1, 5])"
      ]
     },
     "execution_count": 252,
     "metadata": {},
     "output_type": "execute_result"
    }
   ],
   "source": [
    "a = np.array([0, 1, 2, 5, 0])\n",
    "b = [0, 2]\n",
    "\n",
    "display(a)\n",
    "display(b)\n",
    "\n",
    "mask = np.in1d(a, b, invert=False)\n",
    "display(mask)\n",
    "\n",
    "display(a[mask])\n",
    "\n",
    "mask = np.in1d(a, b, invert=True)\n",
    "display(mask)\n",
    "\n",
    "a[mask]\n"
   ]
  },
  {
   "cell_type": "markdown",
   "metadata": {},
   "source": [
    "### Упражнение 4\n",
    "\n",
    "* Создайте случайную квадратную матрицу случайного размера от 10 до 100. \n",
    "* Найдите максимум и сумму элементов.\n",
    "* Поделите каждый элемент матрицы на максимум.\n",
    "* Отнимите от каждой строки матрицы среднее по строке.\n",
    "* Замените максимальное значение на -1."
   ]
  },
  {
   "cell_type": "code",
   "execution_count": 77,
   "metadata": {
    "collapsed": true
   },
   "outputs": [
    {
     "name": "stdout",
     "output_type": "stream",
     "text": [
      "[[73 30 74 17 69 91 44 39 58 10]\n",
      " [19 15 64 11 44 18 99 45 33 83]\n",
      " [63 26 86 69 74 20 63 84 88 96]\n",
      " [75 97 77 24 83 82 94 27 40 81]\n",
      " [39 60 52 31 88 85 81 86 26 61]\n",
      " [82 55 42 27 69 71 76 59 87 56]\n",
      " [74 22 60 31 60 78 29 40 61 60]\n",
      " [95 56 19 42 60 58 35 11 68 18]\n",
      " [10 24 31 37 65 87 35 74 77 75]\n",
      " [57 26 60 31 84 38 29 69 68 92]]\n",
      "max - 99 sum - 5564\n"
     ]
    },
    {
     "data": {
      "text/plain": [
       "array([[ 0.73737374,  0.3030303 ,  0.74747475,  0.17171717,  0.6969697 ,\n",
       "         0.91919192,  0.44444444,  0.39393939,  0.58585859,  0.1010101 ],\n",
       "       [ 0.19191919,  0.15151515,  0.64646465,  0.11111111,  0.44444444,\n",
       "         0.18181818,  1.        ,  0.45454545,  0.33333333,  0.83838384],\n",
       "       [ 0.63636364,  0.26262626,  0.86868687,  0.6969697 ,  0.74747475,\n",
       "         0.2020202 ,  0.63636364,  0.84848485,  0.88888889,  0.96969697],\n",
       "       [ 0.75757576,  0.97979798,  0.77777778,  0.24242424,  0.83838384,\n",
       "         0.82828283,  0.94949495,  0.27272727,  0.4040404 ,  0.81818182],\n",
       "       [ 0.39393939,  0.60606061,  0.52525253,  0.31313131,  0.88888889,\n",
       "         0.85858586,  0.81818182,  0.86868687,  0.26262626,  0.61616162],\n",
       "       [ 0.82828283,  0.55555556,  0.42424242,  0.27272727,  0.6969697 ,\n",
       "         0.71717172,  0.76767677,  0.5959596 ,  0.87878788,  0.56565657],\n",
       "       [ 0.74747475,  0.22222222,  0.60606061,  0.31313131,  0.60606061,\n",
       "         0.78787879,  0.29292929,  0.4040404 ,  0.61616162,  0.60606061],\n",
       "       [ 0.95959596,  0.56565657,  0.19191919,  0.42424242,  0.60606061,\n",
       "         0.58585859,  0.35353535,  0.11111111,  0.68686869,  0.18181818],\n",
       "       [ 0.1010101 ,  0.24242424,  0.31313131,  0.37373737,  0.65656566,\n",
       "         0.87878788,  0.35353535,  0.74747475,  0.77777778,  0.75757576],\n",
       "       [ 0.57575758,  0.26262626,  0.60606061,  0.31313131,  0.84848485,\n",
       "         0.38383838,  0.29292929,  0.6969697 ,  0.68686869,  0.92929293]])"
      ]
     },
     "metadata": {},
     "output_type": "display_data"
    },
    {
     "name": "stdout",
     "output_type": "stream",
     "text": [
      "[[ 50.5]\n",
      " [ 43.1]\n",
      " [ 66.9]\n",
      " [ 68. ]\n",
      " [ 60.9]\n",
      " [ 62.4]\n",
      " [ 51.5]\n",
      " [ 46.2]\n",
      " [ 51.5]\n",
      " [ 55.4]]\n",
      "[[ 22.5 -20.5  23.5 -33.5  18.5  40.5  -6.5 -11.5   7.5 -40.5]\n",
      " [-24.1 -28.1  20.9 -32.1   0.9 -25.1  55.9   1.9 -10.1  39.9]\n",
      " [ -3.9 -40.9  19.1   2.1   7.1 -46.9  -3.9  17.1  21.1  29.1]\n",
      " [  7.   29.    9.  -44.   15.   14.   26.  -41.  -28.   13. ]\n",
      " [-21.9  -0.9  -8.9 -29.9  27.1  24.1  20.1  25.1 -34.9   0.1]\n",
      " [ 19.6  -7.4 -20.4 -35.4   6.6   8.6  13.6  -3.4  24.6  -6.4]\n",
      " [ 22.5 -29.5   8.5 -20.5   8.5  26.5 -22.5 -11.5   9.5   8.5]\n",
      " [ 48.8   9.8 -27.2  -4.2  13.8  11.8 -11.2 -35.2  21.8 -28.2]\n",
      " [-41.5 -27.5 -20.5 -14.5  13.5  35.5 -16.5  22.5  25.5  23.5]\n",
      " [  1.6 -29.4   4.6 -24.4  28.6 -17.4 -26.4  13.6  12.6  36.6]]\n",
      "55.9\n",
      "[[ 22.5 -20.5  23.5 -33.5  18.5  40.5  -6.5 -11.5   7.5 -40.5]\n",
      " [-24.1 -28.1  20.9 -32.1   0.9 -25.1  -1.    1.9 -10.1  39.9]\n",
      " [ -3.9 -40.9  19.1   2.1   7.1 -46.9  -3.9  17.1  21.1  29.1]\n",
      " [  7.   29.    9.  -44.   15.   14.   26.  -41.  -28.   13. ]\n",
      " [-21.9  -0.9  -8.9 -29.9  27.1  24.1  20.1  25.1 -34.9   0.1]\n",
      " [ 19.6  -7.4 -20.4 -35.4   6.6   8.6  13.6  -3.4  24.6  -6.4]\n",
      " [ 22.5 -29.5   8.5 -20.5   8.5  26.5 -22.5 -11.5   9.5   8.5]\n",
      " [ 48.8   9.8 -27.2  -4.2  13.8  11.8 -11.2 -35.2  21.8 -28.2]\n",
      " [-41.5 -27.5 -20.5 -14.5  13.5  35.5 -16.5  22.5  25.5  23.5]\n",
      " [  1.6 -29.4   4.6 -24.4  28.6 -17.4 -26.4  13.6  12.6  36.6]]\n"
     ]
    }
   ],
   "source": [
    "#Создайте случайную квадратную матрицу случайного размера от 10 до 100.\n",
    "a = np.random.randint(10, 101, size = (10, 10))\n",
    "print (a)\n",
    "\n",
    "#Найдите максимум и сумму элементов.\n",
    "print('max -',a.max(),'sum -',a.sum())\n",
    "\n",
    "#Поделите каждый элемент матрицы на максимум.\n",
    "display(a / a.max())\n",
    "\n",
    "#Отнимите от каждой строки матрицы среднее по строке.\n",
    "b = np.mean(a, axis = 1)\n",
    "b = b.reshape(len(b),1 )\n",
    "print (b)\n",
    "a = a - b\n",
    "print (a)\n",
    "\n",
    "#Замените максимальное значение на -1.\n",
    "print(a.max())\n",
    "a[a == a.max()] = -1\n",
    "#display(np.sort(a, kind='quicksort'))\n",
    "print (a)"
   ]
  },
  {
   "cell_type": "markdown",
   "metadata": {},
   "source": [
    "### Упражнение 5\n",
    "* Напишите функцию, которая берет многомерный вещественный массив с пропущенными значениями (np.nan) и возвращает его копию с заполненными пропусками (заменять средним значением всех элементов массива). Если в массиве одни пропущенные значения, заполните их нулями."
   ]
  },
  {
   "cell_type": "code",
   "execution_count": 163,
   "metadata": {},
   "outputs": [
    {
     "name": "stdout",
     "output_type": "stream",
     "text": [
      "[[  1.   2.   3.]\n",
      " [ nan  nan  nan]\n",
      " [  7.   8.   9.]\n",
      " [ nan  nan  nan]]\n"
     ]
    },
    {
     "data": {
      "text/plain": [
       "array([[ 1.,  2.,  3.],\n",
       "       [ 5.,  5.,  5.],\n",
       "       [ 7.,  8.,  9.],\n",
       "       [ 5.,  5.,  5.]])"
      ]
     },
     "execution_count": 163,
     "metadata": {},
     "output_type": "execute_result"
    }
   ],
   "source": [
    "def replace_nan_in_arr(a):\n",
    "    if np.nansum(a) == 0:\n",
    "        a[np.isnan(a)] = 0\n",
    "    else:\n",
    "        a[np.isnan(a)] = np.nanmean(a)\n",
    "    return a\n",
    "        \n",
    "a =  np.array(np.arange(1, 13, 1).reshape(4, 3), dtype='float')\n",
    "b = np.arange(1, 5, 2).reshape(2, )\n",
    "a[b] = np.nan\n",
    "\n",
    "#a = np.array([[[1,2,np.nan],[3,4,np.nan]],[[1,2,np.nan],[7,5,np.nan]],[[1,2,np.nan],[7,5,np.nan]]])\n",
    "#a = np.array([[[np.nan,np.nan,np.nan],[np.nan,np.nan,np.nan]],[[np.nan,np.nan,np.nan],[np.nan,np.nan,np.nan]],[[np.nan,np.nan,np.nan],[np.nan,np.nan,np.nan]]])\n",
    "#a = np.full(5, np.nan)\n",
    "print(a)\n",
    "replace_nan_in_arr(a)\n",
    "\n",
    "a"
   ]
  },
  {
   "cell_type": "markdown",
   "metadata": {},
   "source": [
    "### Упражнение 6\n",
    "* Напишите функцию которая нормализирует заданный numpy-массив, так чтобы его значения лежали в интервале $[0, 1]$."
   ]
  },
  {
   "cell_type": "code",
   "execution_count": 296,
   "metadata": {},
   "outputs": [
    {
     "data": {
      "text/plain": [
       "array([[[ 0.57863248,  0.37008547,  0.05897436],\n",
       "        [ 0.92905983,  0.4957265 ,  0.5982906 ],\n",
       "        [ 0.69487179,  0.88717949,  0.67863248],\n",
       "        [ 1.        ,  0.85726496,  0.35384615],\n",
       "        [ 0.82820513,  0.38376068,  0.        ]]])"
      ]
     },
     "execution_count": 296,
     "metadata": {},
     "output_type": "execute_result"
    }
   ],
   "source": [
    "def m_f (a):\n",
    "    t_shape = a.shape\n",
    "    a[np.isnan(a)] = 0\n",
    "    a = a.ravel()\n",
    "    a = (a - a.min() )/(a.max() - a.min())\n",
    "    #a = np.sort(a, kind='quicksort')\n",
    "    a = a.reshape(t_shape)\n",
    "    return a\n",
    "\n",
    "a = np.random.randint(90, 1500, size = (1,5,3))\n",
    "m_f(a)\n",
    "\n",
    "\n"
   ]
  },
  {
   "cell_type": "markdown",
   "metadata": {},
   "source": [
    "### Упражнение 7\n",
    "* Запишите numpy-array в файл.\n",
    "* Считайте numpy-array из файла."
   ]
  },
  {
   "cell_type": "code",
   "execution_count": 261,
   "metadata": {},
   "outputs": [
    {
     "name": "stdout",
     "output_type": "stream",
     "text": [
      "[[ 0  1  2  3]\n",
      " [ 4  5  6  7]\n",
      " [ 8  9 10 11]]\n"
     ]
    },
    {
     "data": {
      "text/plain": [
       "array([[ 0,  1,  2,  3],\n",
       "       [ 4,  5,  6,  7],\n",
       "       [ 8,  9, 10, 11]])"
      ]
     },
     "execution_count": 261,
     "metadata": {},
     "output_type": "execute_result"
    }
   ],
   "source": [
    "#апишите numpy-array в файл.\n",
    "a = np.arange(12).reshape(3, 4)\n",
    "print(a)\n",
    "np.save('example_1', a)\n",
    "\n",
    "#Считайте numpy-array из файла.\n",
    "a = np.load('example_1.npy')\n",
    "a"
   ]
  },
  {
   "cell_type": "markdown",
   "metadata": {},
   "source": [
    "### Упражнение 8\n",
    "* Создайте случайный массив\n",
    "* Найдите в массиве элемент ближайший к данному"
   ]
  },
  {
   "cell_type": "code",
   "execution_count": 519,
   "metadata": {},
   "outputs": [
    {
     "name": "stdout",
     "output_type": "stream",
     "text": [
      "[[1 8 2]\n",
      " [8 7 8]\n",
      " [6 3 0]]\n"
     ]
    }
   ],
   "source": [
    "#Создайте случайный массив\n",
    "A = 10 * np.eye(3) + np.random.rand(3, 3)\n",
    "B = np.random.randint(0, 10, size=A.shape)\n",
    "print(B)\n"
   ]
  },
  {
   "cell_type": "code",
   "execution_count": 520,
   "metadata": {},
   "outputs": [
    {
     "data": {
      "text/plain": [
       "8"
      ]
     },
     "execution_count": 520,
     "metadata": {},
     "output_type": "execute_result"
    }
   ],
   "source": [
    "#Найдите в массиве элемент ближайший к данному\n",
    "def my_func(i,a):\n",
    "    if np.nansum(a[a>=i]) == 0:\n",
    "        num1 = a.max()\n",
    "    else:\n",
    "        num1 = a[a>=i].min() \n",
    "        \n",
    "    if np.nansum(a[a<=i]) == 0:\n",
    "        num2 = a.min()\n",
    "    else:\n",
    "        num2 = a[a<=i].max()\n",
    "        \n",
    "    if num1 - i == i - num2:\n",
    "        if num1 == num2:\n",
    "            return num1\n",
    "        else:\n",
    "            return num1, num2\n",
    "    elif num1 - i > i - num2:\n",
    "        return num2\n",
    "    else:\n",
    "        return num1\n",
    "    \n",
    "my_func(9,B)    "
   ]
  },
  {
   "cell_type": "markdown",
   "metadata": {},
   "source": [
    "### Упражнение 9"
   ]
  },
  {
   "cell_type": "markdown",
   "metadata": {},
   "source": [
    "* Напишите функцию, которая возвращает  $n \\times m$ целочисленную матрицу с заданным значением на границах матрицы и с заданным значением внутри"
   ]
  },
  {
   "cell_type": "code",
   "execution_count": 518,
   "metadata": {},
   "outputs": [
    {
     "name": "stdout",
     "output_type": "stream",
     "text": [
      "[[1 1 1 1]\n",
      " [1 2 2 1]\n",
      " [1 2 2 1]\n",
      " [1 2 2 1]\n",
      " [1 1 1 1]]\n"
     ]
    }
   ],
   "source": [
    "n=5\n",
    "m=4\n",
    "\n",
    "if n > 1 and m > 1:\n",
    "    a = 1 #граница\n",
    "    c = 2 #внутри матрицы\n",
    "    B = np.random.randint(0, 10, size=(n-2,m-2))\n",
    "    B[:] = c \n",
    "    C = np.random.randint(a,a+1,size = (n-2,1))\n",
    "    B = np.concatenate([B,C], axis=1)\n",
    "    B = np.concatenate([C,B], axis=1)\n",
    "    C = np.random.randint(a,a+1,size = (1,m))\n",
    "    B = np.concatenate([C,B], axis=0)\n",
    "    B = np.concatenate([B,C], axis=0)\n",
    "    print(B)\n",
    "else:\n",
    "    print ('матрица должна иметь больше одной строки и одного столбца!')\n"
   ]
  },
  {
   "cell_type": "markdown",
   "metadata": {},
   "source": [
    "### Упражнение 10\n",
    "* Напишите функцию, которая сортирует строки данной матрицы по значениям заданного столбца в порядке убывания. "
   ]
  },
  {
   "cell_type": "code",
   "execution_count": 537,
   "metadata": {},
   "outputs": [
    {
     "name": "stdout",
     "output_type": "stream",
     "text": [
      "[[ 8 89 75 50 64]\n",
      " [63 58 85 67 94]\n",
      " [77 13 39 87 76]\n",
      " [65  9 91 39 95]\n",
      " [21 56 13 36 47]]\n"
     ]
    },
    {
     "data": {
      "text/plain": [
       "array([[65,  9, 91, 39, 95],\n",
       "       [63, 58, 85, 67, 94],\n",
       "       [ 8, 89, 75, 50, 64],\n",
       "       [77, 13, 39, 87, 76],\n",
       "       [21, 56, 13, 36, 47]])"
      ]
     },
     "execution_count": 537,
     "metadata": {},
     "output_type": "execute_result"
    }
   ],
   "source": [
    "def super_sort(a,i):\n",
    "    res = a[a[:, i].argsort()[::-1]] \n",
    "    return res    \n",
    "a= np.random.randint(1, 101, (5,5))\n",
    "print(a)\n",
    "super_sort (a,2)"
   ]
  },
  {
   "cell_type": "markdown",
   "metadata": {},
   "source": [
    "### Упражнение 11\n",
    "\n",
    "* Напишите функцию, которая создает двоичную матрицу шахматной доски с заданным shape\n",
    "\n",
    "Пример 4x4:\n",
    "```python\n",
    "[[0, 1, 0, 1],\n",
    " [1, 0, 1, 0],\n",
    " [0, 1, 0, 1],\n",
    " [1, 0, 1, 0]]\n",
    "```"
   ]
  },
  {
   "cell_type": "code",
   "execution_count": 539,
   "metadata": {},
   "outputs": [
    {
     "name": "stdout",
     "output_type": "stream",
     "text": [
      "[[1 0 1 0]\n",
      " [0 1 0 1]\n",
      " [1 0 1 0]\n",
      " [0 1 0 1]]\n"
     ]
    }
   ],
   "source": [
    "t_shape = 4\n",
    "if t_shape % 2 ==0:\n",
    "    a=np.array(([1,0]*int(t_shape/2)+[0,1]*int(t_shape/2))*int(t_shape/2)).reshape(t_shape,t_shape)    \n",
    "    print(a)"
   ]
  },
  {
   "cell_type": "code",
   "execution_count": 547,
   "metadata": {},
   "outputs": [
    {
     "data": {
      "text/plain": [
       "array([[0, 1, 0, 1],\n",
       "       [1, 0, 1, 0],\n",
       "       [0, 1, 0, 1],\n",
       "       [1, 0, 1, 0],\n",
       "       [0, 1, 0, 1],\n",
       "       [1, 0, 1, 0],\n",
       "       [0, 1, 0, 1],\n",
       "       [1, 0, 1, 0],\n",
       "       [0, 1, 0, 1]], dtype=int32)"
      ]
     },
     "execution_count": 547,
     "metadata": {},
     "output_type": "execute_result"
    }
   ],
   "source": [
    "def checkerboard(shape):\n",
    "    return np.indices(shape).sum(axis=0) % 2\n",
    "checkerboard((9,4))"
   ]
  },
  {
   "cell_type": "markdown",
   "metadata": {},
   "source": [
    "### Упражнение 12\n",
    "* Напишите игру [life](https://en.wikipedia.org/wiki/Conway%27s_Game_of_Life), используя массивы numpy.\n",
    "* Визуализируйте интерактивно ее результаты.\n",
    "\n"
   ]
  }
 ],
 "metadata": {
  "kernelspec": {
   "display_name": "Python 3",
   "language": "python",
   "name": "python3"
  },
  "language_info": {
   "codemirror_mode": {
    "name": "ipython",
    "version": 3
   },
   "file_extension": ".py",
   "mimetype": "text/x-python",
   "name": "python",
   "nbconvert_exporter": "python",
   "pygments_lexer": "ipython3",
   "version": "3.6.1"
  }
 },
 "nbformat": 4,
 "nbformat_minor": 2
}
